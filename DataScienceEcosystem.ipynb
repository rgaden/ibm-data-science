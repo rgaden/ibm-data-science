{
 "cells": [
  {
   "cell_type": "markdown",
   "id": "51ebbfdd-e163-4b5a-955f-7a7532d95dc7",
   "metadata": {
    "tags": []
   },
   "source": [
    "# Data Science Tools and Ecosystem"
   ]
  },
  {
   "cell_type": "markdown",
   "id": "b9fb3a6f-df9f-4a20-b974-1a33148a30a4",
   "metadata": {
    "tags": []
   },
   "source": [
    "In this notebook, Data Science Tools and Ecosystem are summarized."
   ]
  },
  {
   "cell_type": "markdown",
   "id": "929695f2-5af9-4795-9d77-04cc51323392",
   "metadata": {
    "tags": []
   },
   "source": [
    "__Objectives:__\n",
    "\n",
    "- List popular languages for Data Science\n",
    "- Use markdown for headings\n",
    "- Use markdown for lists\n",
    "- Run Python code in Jupyter Notebook\n",
    "- Add comments to Python code"
   ]
  },
  {
   "cell_type": "markdown",
   "id": "6b1c02b5-341e-43e2-a9de-bdbbd2c1677a",
   "metadata": {
    "tags": []
   },
   "source": [
    "Some of the popular languages that Data Scientists use are:\n",
    "1. Something\n",
    "2. SQL\n",
    "3. Julia\n",
    "4. Java\n",
    "5. Scala"
   ]
  },
  {
   "cell_type": "markdown",
   "id": "ea157f08-6cd8-4770-8e1b-e70877923ba9",
   "metadata": {
    "tags": []
   },
   "source": [
    "Some of the commonly used libraries used by Data Scientists include:\n",
    "1. Pandas\n",
    "2. SciPy\n",
    "3. Scikit learn\n",
    "4. Tesorflow\n",
    "5  Matplotlib"
   ]
  },
  {
   "cell_type": "markdown",
   "id": "89614366-ac03-40a6-acc8-9b5ce573c78a",
   "metadata": {},
   "source": [
    "|Data Science Tools|\n",
    "|------------------|\n",
    "|Jupyter|\n",
    "|RStudio|\n",
    "|GIT|"
   ]
  },
  {
   "cell_type": "markdown",
   "id": "ef9cb301-4248-46df-8be4-ddd51e940f16",
   "metadata": {
    "tags": []
   },
   "source": [
    "### Below are a few examples of evaluating arithmetic expressions in Python"
   ]
  },
  {
   "cell_type": "code",
   "execution_count": 18,
   "id": "12cbecb0-6eab-4edc-87fa-7c2bf101da96",
   "metadata": {
    "tags": []
   },
   "outputs": [
    {
     "data": {
      "text/plain": [
       "17"
      ]
     },
     "execution_count": 18,
     "metadata": {},
     "output_type": "execute_result"
    }
   ],
   "source": [
    "# This a simple arithmetic expression to mutiply then add integers\n",
    "(3*4)+5"
   ]
  },
  {
   "cell_type": "code",
   "execution_count": 19,
   "id": "913386e8-d072-4103-ac2e-4c1f3e7c8f9a",
   "metadata": {
    "tags": []
   },
   "outputs": [
    {
     "data": {
      "text/plain": [
       "3.3333333333333335"
      ]
     },
     "execution_count": 19,
     "metadata": {},
     "output_type": "execute_result"
    }
   ],
   "source": [
    "# This will convert 200 minutes to hours by diving by 60\n",
    "(200 / 60)"
   ]
  },
  {
   "cell_type": "markdown",
   "id": "5d123f37-e80f-4ba8-81e1-3e7914577801",
   "metadata": {
    "tags": []
   },
   "source": [
    "## Author\n",
    "Robert Gaden"
   ]
  }
 ],
 "metadata": {
  "kernelspec": {
   "display_name": "Python",
   "language": "python",
   "name": "conda-env-python-py"
  },
  "language_info": {
   "codemirror_mode": {
    "name": "ipython",
    "version": 3
   },
   "file_extension": ".py",
   "mimetype": "text/x-python",
   "name": "python",
   "nbconvert_exporter": "python",
   "pygments_lexer": "ipython3",
   "version": "3.7.12"
  }
 },
 "nbformat": 4,
 "nbformat_minor": 5
}
